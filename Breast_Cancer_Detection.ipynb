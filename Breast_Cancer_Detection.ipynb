{
  "nbformat": 4,
  "nbformat_minor": 0,
  "metadata": {
    "colab": {
      "provenance": []
    },
    "kernelspec": {
      "name": "python3",
      "display_name": "Python 3"
    },
    "language_info": {
      "name": "python"
    }
  },
  "cells": [
    {
      "cell_type": "markdown",
      "source": [
        "***Breast_Cancer_Detection***"
      ],
      "metadata": {
        "id": "dAGZgT2amM1_"
      }
    },
    {
      "cell_type": "markdown",
      "source": [
        "Import libraries"
      ],
      "metadata": {
        "id": "jrIN08ASmSij"
      }
    },
    {
      "cell_type": "code",
      "execution_count": 22,
      "metadata": {
        "id": "JxJvtsEsjOVY"
      },
      "outputs": [],
      "source": [
        "import numpy as np\n",
        "import pandas as pd\n",
        "import matplotlib.pyplot as plt\n",
        "import seaborn as sns\n",
        "from sklearn import preprocessing\n",
        "from sklearn.neighbors import KNeighborsClassifier\n",
        "from sklearn.svm import SVC\n",
        "from sklearn import model_selection\n",
        "from sklearn.metrics import classification_report,accuracy_score\n",
        "from pandas.plotting import scatter_matrix\n",
        "from sklearn.metrics import precision_score"
      ]
    },
    {
      "cell_type": "code",
      "source": [
        "from google.colab import files\n",
        "uploaded=files.upload()"
      ],
      "metadata": {
        "colab": {
          "base_uri": "https://localhost:8080/",
          "height": 73
        },
        "id": "ScX8gWyqsT1U",
        "outputId": "97ead43e-79b4-40f7-bdae-8e66d6d04a0b"
      },
      "execution_count": 23,
      "outputs": [
        {
          "output_type": "display_data",
          "data": {
            "text/plain": [
              "<IPython.core.display.HTML object>"
            ],
            "text/html": [
              "\n",
              "     <input type=\"file\" id=\"files-15edfb8d-a7e1-4fb1-a88a-6914eb47c31e\" name=\"files[]\" multiple disabled\n",
              "        style=\"border:none\" />\n",
              "     <output id=\"result-15edfb8d-a7e1-4fb1-a88a-6914eb47c31e\">\n",
              "      Upload widget is only available when the cell has been executed in the\n",
              "      current browser session. Please rerun this cell to enable.\n",
              "      </output>\n",
              "      <script>// Copyright 2017 Google LLC\n",
              "//\n",
              "// Licensed under the Apache License, Version 2.0 (the \"License\");\n",
              "// you may not use this file except in compliance with the License.\n",
              "// You may obtain a copy of the License at\n",
              "//\n",
              "//      http://www.apache.org/licenses/LICENSE-2.0\n",
              "//\n",
              "// Unless required by applicable law or agreed to in writing, software\n",
              "// distributed under the License is distributed on an \"AS IS\" BASIS,\n",
              "// WITHOUT WARRANTIES OR CONDITIONS OF ANY KIND, either express or implied.\n",
              "// See the License for the specific language governing permissions and\n",
              "// limitations under the License.\n",
              "\n",
              "/**\n",
              " * @fileoverview Helpers for google.colab Python module.\n",
              " */\n",
              "(function(scope) {\n",
              "function span(text, styleAttributes = {}) {\n",
              "  const element = document.createElement('span');\n",
              "  element.textContent = text;\n",
              "  for (const key of Object.keys(styleAttributes)) {\n",
              "    element.style[key] = styleAttributes[key];\n",
              "  }\n",
              "  return element;\n",
              "}\n",
              "\n",
              "// Max number of bytes which will be uploaded at a time.\n",
              "const MAX_PAYLOAD_SIZE = 100 * 1024;\n",
              "\n",
              "function _uploadFiles(inputId, outputId) {\n",
              "  const steps = uploadFilesStep(inputId, outputId);\n",
              "  const outputElement = document.getElementById(outputId);\n",
              "  // Cache steps on the outputElement to make it available for the next call\n",
              "  // to uploadFilesContinue from Python.\n",
              "  outputElement.steps = steps;\n",
              "\n",
              "  return _uploadFilesContinue(outputId);\n",
              "}\n",
              "\n",
              "// This is roughly an async generator (not supported in the browser yet),\n",
              "// where there are multiple asynchronous steps and the Python side is going\n",
              "// to poll for completion of each step.\n",
              "// This uses a Promise to block the python side on completion of each step,\n",
              "// then passes the result of the previous step as the input to the next step.\n",
              "function _uploadFilesContinue(outputId) {\n",
              "  const outputElement = document.getElementById(outputId);\n",
              "  const steps = outputElement.steps;\n",
              "\n",
              "  const next = steps.next(outputElement.lastPromiseValue);\n",
              "  return Promise.resolve(next.value.promise).then((value) => {\n",
              "    // Cache the last promise value to make it available to the next\n",
              "    // step of the generator.\n",
              "    outputElement.lastPromiseValue = value;\n",
              "    return next.value.response;\n",
              "  });\n",
              "}\n",
              "\n",
              "/**\n",
              " * Generator function which is called between each async step of the upload\n",
              " * process.\n",
              " * @param {string} inputId Element ID of the input file picker element.\n",
              " * @param {string} outputId Element ID of the output display.\n",
              " * @return {!Iterable<!Object>} Iterable of next steps.\n",
              " */\n",
              "function* uploadFilesStep(inputId, outputId) {\n",
              "  const inputElement = document.getElementById(inputId);\n",
              "  inputElement.disabled = false;\n",
              "\n",
              "  const outputElement = document.getElementById(outputId);\n",
              "  outputElement.innerHTML = '';\n",
              "\n",
              "  const pickedPromise = new Promise((resolve) => {\n",
              "    inputElement.addEventListener('change', (e) => {\n",
              "      resolve(e.target.files);\n",
              "    });\n",
              "  });\n",
              "\n",
              "  const cancel = document.createElement('button');\n",
              "  inputElement.parentElement.appendChild(cancel);\n",
              "  cancel.textContent = 'Cancel upload';\n",
              "  const cancelPromise = new Promise((resolve) => {\n",
              "    cancel.onclick = () => {\n",
              "      resolve(null);\n",
              "    };\n",
              "  });\n",
              "\n",
              "  // Wait for the user to pick the files.\n",
              "  const files = yield {\n",
              "    promise: Promise.race([pickedPromise, cancelPromise]),\n",
              "    response: {\n",
              "      action: 'starting',\n",
              "    }\n",
              "  };\n",
              "\n",
              "  cancel.remove();\n",
              "\n",
              "  // Disable the input element since further picks are not allowed.\n",
              "  inputElement.disabled = true;\n",
              "\n",
              "  if (!files) {\n",
              "    return {\n",
              "      response: {\n",
              "        action: 'complete',\n",
              "      }\n",
              "    };\n",
              "  }\n",
              "\n",
              "  for (const file of files) {\n",
              "    const li = document.createElement('li');\n",
              "    li.append(span(file.name, {fontWeight: 'bold'}));\n",
              "    li.append(span(\n",
              "        `(${file.type || 'n/a'}) - ${file.size} bytes, ` +\n",
              "        `last modified: ${\n",
              "            file.lastModifiedDate ? file.lastModifiedDate.toLocaleDateString() :\n",
              "                                    'n/a'} - `));\n",
              "    const percent = span('0% done');\n",
              "    li.appendChild(percent);\n",
              "\n",
              "    outputElement.appendChild(li);\n",
              "\n",
              "    const fileDataPromise = new Promise((resolve) => {\n",
              "      const reader = new FileReader();\n",
              "      reader.onload = (e) => {\n",
              "        resolve(e.target.result);\n",
              "      };\n",
              "      reader.readAsArrayBuffer(file);\n",
              "    });\n",
              "    // Wait for the data to be ready.\n",
              "    let fileData = yield {\n",
              "      promise: fileDataPromise,\n",
              "      response: {\n",
              "        action: 'continue',\n",
              "      }\n",
              "    };\n",
              "\n",
              "    // Use a chunked sending to avoid message size limits. See b/62115660.\n",
              "    let position = 0;\n",
              "    do {\n",
              "      const length = Math.min(fileData.byteLength - position, MAX_PAYLOAD_SIZE);\n",
              "      const chunk = new Uint8Array(fileData, position, length);\n",
              "      position += length;\n",
              "\n",
              "      const base64 = btoa(String.fromCharCode.apply(null, chunk));\n",
              "      yield {\n",
              "        response: {\n",
              "          action: 'append',\n",
              "          file: file.name,\n",
              "          data: base64,\n",
              "        },\n",
              "      };\n",
              "\n",
              "      let percentDone = fileData.byteLength === 0 ?\n",
              "          100 :\n",
              "          Math.round((position / fileData.byteLength) * 100);\n",
              "      percent.textContent = `${percentDone}% done`;\n",
              "\n",
              "    } while (position < fileData.byteLength);\n",
              "  }\n",
              "\n",
              "  // All done.\n",
              "  yield {\n",
              "    response: {\n",
              "      action: 'complete',\n",
              "    }\n",
              "  };\n",
              "}\n",
              "\n",
              "scope.google = scope.google || {};\n",
              "scope.google.colab = scope.google.colab || {};\n",
              "scope.google.colab._files = {\n",
              "  _uploadFiles,\n",
              "  _uploadFilesContinue,\n",
              "};\n",
              "})(self);\n",
              "</script> "
            ]
          },
          "metadata": {}
        },
        {
          "output_type": "stream",
          "name": "stdout",
          "text": [
            "Saving breast-cancer-wisconsin.data to breast-cancer-wisconsin (1).data\n"
          ]
        }
      ]
    },
    {
      "cell_type": "code",
      "source": [
        "file=open(\"breast-cancer-wisconsin.data\",\"r\",encoding=\"utf8\")\n"
      ],
      "metadata": {
        "id": "ltfWqP52s0-z"
      },
      "execution_count": 24,
      "outputs": []
    },
    {
      "cell_type": "code",
      "source": [
        "names = [\"id\",\"clump_thickness\",\"uniform_cell_size\",\"uniform_cell_shape\",\"marginal_adhesion\",\"single_epithelial_size\",\n",
        "         \"bare_nulcei\",\"bland_chromatin\",\"normal_nuclei\",\"mitoses\",\"class\"]\n",
        "df = pd.read_csv(file,names=names)"
      ],
      "metadata": {
        "id": "Ir00xoiWsmUT"
      },
      "execution_count": 25,
      "outputs": []
    },
    {
      "cell_type": "code",
      "source": [
        "df.replace('?', -99999, inplace=True)\n",
        "print(df.axes)\n",
        "df.drop(['id'], 1, inplace=True)\n",
        "\n",
        "print(df.shape)"
      ],
      "metadata": {
        "colab": {
          "base_uri": "https://localhost:8080/"
        },
        "id": "RQyp50MNno05",
        "outputId": "d4db1402-d2e7-4474-c813-f4330a59f46c"
      },
      "execution_count": 26,
      "outputs": [
        {
          "output_type": "stream",
          "name": "stdout",
          "text": [
            "[RangeIndex(start=0, stop=699, step=1), Index(['id', 'clump_thickness', 'uniform_cell_size', 'uniform_cell_shape',\n",
            "       'marginal_adhesion', 'single_epithelial_size', 'bare_nulcei',\n",
            "       'bland_chromatin', 'normal_nuclei', 'mitoses', 'class'],\n",
            "      dtype='object')]\n",
            "(699, 10)\n"
          ]
        },
        {
          "output_type": "stream",
          "name": "stderr",
          "text": [
            "<ipython-input-26-ce083e1aefb1>:3: FutureWarning: In a future version of pandas all arguments of DataFrame.drop except for the argument 'labels' will be keyword-only\n",
            "  df.drop(['id'], 1, inplace=True)\n"
          ]
        }
      ]
    },
    {
      "cell_type": "code",
      "source": [
        "print(df.loc[0])\n",
        "print(df.describe())"
      ],
      "metadata": {
        "colab": {
          "base_uri": "https://localhost:8080/"
        },
        "id": "y-36kpxqoDjh",
        "outputId": "2335a269-dece-45e2-d430-f192a6f2ccb8"
      },
      "execution_count": 27,
      "outputs": [
        {
          "output_type": "stream",
          "name": "stdout",
          "text": [
            "clump_thickness           5\n",
            "uniform_cell_size         1\n",
            "uniform_cell_shape        1\n",
            "marginal_adhesion         1\n",
            "single_epithelial_size    2\n",
            "bare_nulcei               1\n",
            "bland_chromatin           3\n",
            "normal_nuclei             1\n",
            "mitoses                   1\n",
            "class                     2\n",
            "Name: 0, dtype: object\n",
            "       clump_thickness  uniform_cell_size  uniform_cell_shape  \\\n",
            "count       699.000000         699.000000          699.000000   \n",
            "mean          4.417740           3.134478            3.207439   \n",
            "std           2.815741           3.051459            2.971913   \n",
            "min           1.000000           1.000000            1.000000   \n",
            "25%           2.000000           1.000000            1.000000   \n",
            "50%           4.000000           1.000000            1.000000   \n",
            "75%           6.000000           5.000000            5.000000   \n",
            "max          10.000000          10.000000           10.000000   \n",
            "\n",
            "       marginal_adhesion  single_epithelial_size  bland_chromatin  \\\n",
            "count         699.000000              699.000000       699.000000   \n",
            "mean            2.806867                3.216023         3.437768   \n",
            "std             2.855379                2.214300         2.438364   \n",
            "min             1.000000                1.000000         1.000000   \n",
            "25%             1.000000                2.000000         2.000000   \n",
            "50%             1.000000                2.000000         3.000000   \n",
            "75%             4.000000                4.000000         5.000000   \n",
            "max            10.000000               10.000000        10.000000   \n",
            "\n",
            "       normal_nuclei     mitoses       class  \n",
            "count     699.000000  699.000000  699.000000  \n",
            "mean        2.866953    1.589413    2.689557  \n",
            "std         3.053634    1.715078    0.951273  \n",
            "min         1.000000    1.000000    2.000000  \n",
            "25%         1.000000    1.000000    2.000000  \n",
            "50%         1.000000    1.000000    2.000000  \n",
            "75%         4.000000    1.000000    4.000000  \n",
            "max        10.000000   10.000000    4.000000  \n"
          ]
        }
      ]
    },
    {
      "cell_type": "code",
      "source": [
        "df.hist(figsize=(15,15))\n",
        "plt.show()"
      ],
      "metadata": {
        "colab": {
          "base_uri": "https://localhost:8080/",
          "height": 879
        },
        "id": "8zE6g4YvoLl3",
        "outputId": "58b38b33-02aa-48ed-f0eb-d3338a3876c3"
      },
      "execution_count": 28,
      "outputs": [
        {
          "output_type": "display_data",
          "data": {
            "text/plain": [
              "<Figure size 1080x1080 with 9 Axes>"
            ],
            "image/png": "[encoded data removed]"
          },
          "metadata": {
            "needs_background": "light"
          }
        }
      ]
    },
    {
      "cell_type": "code",
      "source": [
        "X=np.array(df.drop(['class'],1))\n",
        "y=np.array(df['class'])\n",
        "\n",
        "X_train,X_test,y_train,y_test = model_selection.train_test_split(X,y,test_size=0.2)"
      ],
      "metadata": {
        "colab": {
          "base_uri": "https://localhost:8080/"
        },
        "id": "2BuaeENLog94",
        "outputId": "0ba84758-805f-4a4e-a1f4-8dbe93566add"
      },
      "execution_count": 29,
      "outputs": [
        {
          "output_type": "stream",
          "name": "stderr",
          "text": [
            "<ipython-input-29-3eec9626e94c>:1: FutureWarning: In a future version of pandas all arguments of DataFrame.drop except for the argument 'labels' will be keyword-only\n",
            "  X=np.array(df.drop(['class'],1))\n"
          ]
        }
      ]
    },
    {
      "cell_type": "code",
      "source": [
        "seed=8\n",
        "scoring='accuracy'"
      ],
      "metadata": {
        "id": "iiYaX3t-qvmu"
      },
      "execution_count": 30,
      "outputs": []
    },
    {
      "cell_type": "code",
      "source": [
        "models=[]\n",
        "models.append(('KNN',KNeighborsClassifier(n_neighbors=5)))\n",
        "models.append(('SVM',SVC()))"
      ],
      "metadata": {
        "id": "SSodyVaEq3K7"
      },
      "execution_count": 31,
      "outputs": []
    },
    {
      "cell_type": "code",
      "source": [
        "results = []\n",
        "names = []\n",
        "\n",
        "for name,model in models:\n",
        "    kfold = model_selection.KFold(n_splits=19,shuffle=True,random_state=seed)\n",
        "    cv_results = model_selection.cross_val_score(model,X_train,y_train,cv=kfold,scoring=scoring)\n",
        "    results.append(cv_results)\n",
        "    names.append(name)\n",
        "    \n",
        "    msg = \"%s: %f  (%f)\" % (name,cv_results.mean(),cv_results.std())\n",
        "    print(msg)"
      ],
      "metadata": {
        "colab": {
          "base_uri": "https://localhost:8080/"
        },
        "id": "ZelvsgZ-q8RS",
        "outputId": "a66099d6-ff24-4f04-c38e-3a8396577c69"
      },
      "execution_count": 32,
      "outputs": [
        {
          "output_type": "stream",
          "name": "stdout",
          "text": [
            "KNN: 0.978645  (0.025006)\n",
            "SVM: 0.654628  (0.074883)\n"
          ]
        }
      ]
    },
    {
      "cell_type": "code",
      "source": [
        "for name,model in models:\n",
        "    model.fit(X_train,y_train)\n",
        "    predictions=model.predict(X_test)\n",
        "    print(name)\n",
        "    print(accuracy_score(y_test,predictions))\n",
        "    print(classification_report(y_test,predictions, zero_division=1))"
      ],
      "metadata": {
        "colab": {
          "base_uri": "https://localhost:8080/"
        },
        "id": "vMhkO0z5rIW_",
        "outputId": "f11047f7-b3b0-4b6f-9d0f-fb5920d0e7ba"
      },
      "execution_count": 33,
      "outputs": [
        {
          "output_type": "stream",
          "name": "stdout",
          "text": [
            "KNN\n",
            "0.9571428571428572\n",
            "              precision    recall  f1-score   support\n",
            "\n",
            "           2       0.98      0.96      0.97        92\n",
            "           4       0.92      0.96      0.94        48\n",
            "\n",
            "    accuracy                           0.96       140\n",
            "   macro avg       0.95      0.96      0.95       140\n",
            "weighted avg       0.96      0.96      0.96       140\n",
            "\n",
            "SVM\n",
            "0.6571428571428571\n",
            "              precision    recall  f1-score   support\n",
            "\n",
            "           2       0.66      1.00      0.79        92\n",
            "           4       1.00      0.00      0.00        48\n",
            "\n",
            "    accuracy                           0.66       140\n",
            "   macro avg       0.83      0.50      0.40       140\n",
            "weighted avg       0.77      0.66      0.52       140\n",
            "\n"
          ]
        }
      ]
    }
  ]
}